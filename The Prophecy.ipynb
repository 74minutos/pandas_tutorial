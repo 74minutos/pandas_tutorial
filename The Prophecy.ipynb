{
 "cells": [
  {
   "cell_type": "code",
   "execution_count": 1,
   "id": "00f2fd02",
   "metadata": {},
   "outputs": [],
   "source": [
    "import pandas as pd"
   ]
  },
  {
   "cell_type": "code",
   "execution_count": 2,
   "id": "8aebce0d",
   "metadata": {},
   "outputs": [],
   "source": [
    "prophecies_dict = {\"prophecies\": [\"[you're going to die]\", \"[you're going to meet the love of your life, then you'll die]\", \"did I tell you? You're going to die\"], \n",
    "                   'name': [\"Tarja\", \"James\", \"Bruce\"]}\n",
    "\n",
    "prophecies = pd.DataFrame(prophecies_dict)"
   ]
  },
  {
   "cell_type": "code",
   "execution_count": 3,
   "id": "7d41cbef",
   "metadata": {},
   "outputs": [
    {
     "data": {
      "text/html": [
       "<div>\n",
       "<style scoped>\n",
       "    .dataframe tbody tr th:only-of-type {\n",
       "        vertical-align: middle;\n",
       "    }\n",
       "\n",
       "    .dataframe tbody tr th {\n",
       "        vertical-align: top;\n",
       "    }\n",
       "\n",
       "    .dataframe thead th {\n",
       "        text-align: right;\n",
       "    }\n",
       "</style>\n",
       "<table border=\"1\" class=\"dataframe\">\n",
       "  <thead>\n",
       "    <tr style=\"text-align: right;\">\n",
       "      <th></th>\n",
       "      <th>prophecies</th>\n",
       "      <th>name</th>\n",
       "    </tr>\n",
       "  </thead>\n",
       "  <tbody>\n",
       "    <tr>\n",
       "      <th>0</th>\n",
       "      <td>[you're going to die]</td>\n",
       "      <td>Tarja</td>\n",
       "    </tr>\n",
       "    <tr>\n",
       "      <th>1</th>\n",
       "      <td>[you're going to meet the love of your life, t...</td>\n",
       "      <td>James</td>\n",
       "    </tr>\n",
       "    <tr>\n",
       "      <th>2</th>\n",
       "      <td>did I tell you? You're going to die</td>\n",
       "      <td>Bruce</td>\n",
       "    </tr>\n",
       "  </tbody>\n",
       "</table>\n",
       "</div>"
      ],
      "text/plain": [
       "                                          prophecies   name\n",
       "0                              [you're going to die]  Tarja\n",
       "1  [you're going to meet the love of your life, t...  James\n",
       "2                did I tell you? You're going to die  Bruce"
      ]
     },
     "execution_count": 3,
     "metadata": {},
     "output_type": "execute_result"
    }
   ],
   "source": [
    "prophecies.head()"
   ]
  },
  {
   "cell_type": "code",
   "execution_count": 4,
   "id": "312b89e0",
   "metadata": {},
   "outputs": [
    {
     "name": "stderr",
     "output_type": "stream",
     "text": [
      "<ipython-input-4-759982e1c736>:1: FutureWarning: The default value of regex will change from True to False in a future version. In addition, single character regular expressions will*not* be treated as literal strings when regex=True.\n",
      "  prophecies['prophecies'] = prophecies['prophecies'].str.replace(\"[\", \"\").str.replace(\"]\", \"\")\n"
     ]
    }
   ],
   "source": [
    "prophecies['prophecies'] = prophecies['prophecies'].str.replace(\"[\", \"\").str.replace(\"]\", \"\")"
   ]
  },
  {
   "cell_type": "code",
   "execution_count": 5,
   "id": "fcd6d1de",
   "metadata": {},
   "outputs": [
    {
     "data": {
      "text/html": [
       "<div>\n",
       "<style scoped>\n",
       "    .dataframe tbody tr th:only-of-type {\n",
       "        vertical-align: middle;\n",
       "    }\n",
       "\n",
       "    .dataframe tbody tr th {\n",
       "        vertical-align: top;\n",
       "    }\n",
       "\n",
       "    .dataframe thead th {\n",
       "        text-align: right;\n",
       "    }\n",
       "</style>\n",
       "<table border=\"1\" class=\"dataframe\">\n",
       "  <thead>\n",
       "    <tr style=\"text-align: right;\">\n",
       "      <th></th>\n",
       "      <th>prophecies</th>\n",
       "      <th>name</th>\n",
       "    </tr>\n",
       "  </thead>\n",
       "  <tbody>\n",
       "    <tr>\n",
       "      <th>0</th>\n",
       "      <td>you're going to die</td>\n",
       "      <td>Tarja</td>\n",
       "    </tr>\n",
       "    <tr>\n",
       "      <th>1</th>\n",
       "      <td>you're going to meet the love of your life, th...</td>\n",
       "      <td>James</td>\n",
       "    </tr>\n",
       "    <tr>\n",
       "      <th>2</th>\n",
       "      <td>did I tell you? You're going to die</td>\n",
       "      <td>Bruce</td>\n",
       "    </tr>\n",
       "  </tbody>\n",
       "</table>\n",
       "</div>"
      ],
      "text/plain": [
       "                                          prophecies   name\n",
       "0                                you're going to die  Tarja\n",
       "1  you're going to meet the love of your life, th...  James\n",
       "2                did I tell you? You're going to die  Bruce"
      ]
     },
     "execution_count": 5,
     "metadata": {},
     "output_type": "execute_result"
    }
   ],
   "source": [
    "prophecies.head()"
   ]
  },
  {
   "cell_type": "code",
   "execution_count": 6,
   "id": "1560458d",
   "metadata": {},
   "outputs": [],
   "source": [
    "prophecies_dict2 = {\"prophecies\": [\"you're going to die\", \"you're going to meet the love of your life, then you'll die\", \"did I tell you? You're going to die\"], \n",
    "                   'name': [\"Tarja\", \"James\", \"Bruce\"], \n",
    "                   'date': ['1976-01-05', '1985-05-11', '2013-04-04'], \n",
    "                   'id': [1,2,3], \n",
    "                   'useless_column': ['nobody loves you', \"you're stupid\", 'moron'],\n",
    "                   'useful_column_for_later': ['everybody loves the things you do', \"you're a genius\", 'handsome']}\n",
    "prophecies2 = pd.DataFrame(prophecies_dict2)"
   ]
  },
  {
   "cell_type": "code",
   "execution_count": 7,
   "id": "301ef74d",
   "metadata": {},
   "outputs": [
    {
     "data": {
      "text/html": [
       "<div>\n",
       "<style scoped>\n",
       "    .dataframe tbody tr th:only-of-type {\n",
       "        vertical-align: middle;\n",
       "    }\n",
       "\n",
       "    .dataframe tbody tr th {\n",
       "        vertical-align: top;\n",
       "    }\n",
       "\n",
       "    .dataframe thead th {\n",
       "        text-align: right;\n",
       "    }\n",
       "</style>\n",
       "<table border=\"1\" class=\"dataframe\">\n",
       "  <thead>\n",
       "    <tr style=\"text-align: right;\">\n",
       "      <th></th>\n",
       "      <th>prophecies</th>\n",
       "      <th>name</th>\n",
       "      <th>date</th>\n",
       "      <th>id</th>\n",
       "      <th>useless_column</th>\n",
       "      <th>useful_column_for_later</th>\n",
       "    </tr>\n",
       "  </thead>\n",
       "  <tbody>\n",
       "    <tr>\n",
       "      <th>0</th>\n",
       "      <td>you're going to die</td>\n",
       "      <td>Tarja</td>\n",
       "      <td>1976-01-05</td>\n",
       "      <td>1</td>\n",
       "      <td>nobody loves you</td>\n",
       "      <td>everybody loves the things you do</td>\n",
       "    </tr>\n",
       "    <tr>\n",
       "      <th>1</th>\n",
       "      <td>you're going to meet the love of your life, th...</td>\n",
       "      <td>James</td>\n",
       "      <td>1985-05-11</td>\n",
       "      <td>2</td>\n",
       "      <td>you're stupid</td>\n",
       "      <td>you're a genius</td>\n",
       "    </tr>\n",
       "    <tr>\n",
       "      <th>2</th>\n",
       "      <td>did I tell you? You're going to die</td>\n",
       "      <td>Bruce</td>\n",
       "      <td>2013-04-04</td>\n",
       "      <td>3</td>\n",
       "      <td>moron</td>\n",
       "      <td>handsome</td>\n",
       "    </tr>\n",
       "  </tbody>\n",
       "</table>\n",
       "</div>"
      ],
      "text/plain": [
       "                                          prophecies   name        date  id  \\\n",
       "0                                you're going to die  Tarja  1976-01-05   1   \n",
       "1  you're going to meet the love of your life, th...  James  1985-05-11   2   \n",
       "2                did I tell you? You're going to die  Bruce  2013-04-04   3   \n",
       "\n",
       "     useless_column            useful_column_for_later  \n",
       "0  nobody loves you  everybody loves the things you do  \n",
       "1     you're stupid                    you're a genius  \n",
       "2             moron                           handsome  "
      ]
     },
     "execution_count": 7,
     "metadata": {},
     "output_type": "execute_result"
    }
   ],
   "source": [
    "prophecies2.head()"
   ]
  },
  {
   "cell_type": "code",
   "execution_count": 8,
   "id": "f2557b74",
   "metadata": {},
   "outputs": [],
   "source": [
    "prophecies2.drop(columns=['useless_column'], inplace=True)"
   ]
  },
  {
   "cell_type": "code",
   "execution_count": 9,
   "id": "20f5fb15",
   "metadata": {},
   "outputs": [
    {
     "data": {
      "text/html": [
       "<div>\n",
       "<style scoped>\n",
       "    .dataframe tbody tr th:only-of-type {\n",
       "        vertical-align: middle;\n",
       "    }\n",
       "\n",
       "    .dataframe tbody tr th {\n",
       "        vertical-align: top;\n",
       "    }\n",
       "\n",
       "    .dataframe thead th {\n",
       "        text-align: right;\n",
       "    }\n",
       "</style>\n",
       "<table border=\"1\" class=\"dataframe\">\n",
       "  <thead>\n",
       "    <tr style=\"text-align: right;\">\n",
       "      <th></th>\n",
       "      <th>prophecies</th>\n",
       "      <th>name</th>\n",
       "      <th>date</th>\n",
       "      <th>id</th>\n",
       "      <th>useful_column_for_later</th>\n",
       "    </tr>\n",
       "  </thead>\n",
       "  <tbody>\n",
       "    <tr>\n",
       "      <th>0</th>\n",
       "      <td>you're going to die</td>\n",
       "      <td>Tarja</td>\n",
       "      <td>1976-01-05</td>\n",
       "      <td>1</td>\n",
       "      <td>everybody loves the things you do</td>\n",
       "    </tr>\n",
       "    <tr>\n",
       "      <th>1</th>\n",
       "      <td>you're going to meet the love of your life, th...</td>\n",
       "      <td>James</td>\n",
       "      <td>1985-05-11</td>\n",
       "      <td>2</td>\n",
       "      <td>you're a genius</td>\n",
       "    </tr>\n",
       "    <tr>\n",
       "      <th>2</th>\n",
       "      <td>did I tell you? You're going to die</td>\n",
       "      <td>Bruce</td>\n",
       "      <td>2013-04-04</td>\n",
       "      <td>3</td>\n",
       "      <td>handsome</td>\n",
       "    </tr>\n",
       "  </tbody>\n",
       "</table>\n",
       "</div>"
      ],
      "text/plain": [
       "                                          prophecies   name        date  id  \\\n",
       "0                                you're going to die  Tarja  1976-01-05   1   \n",
       "1  you're going to meet the love of your life, th...  James  1985-05-11   2   \n",
       "2                did I tell you? You're going to die  Bruce  2013-04-04   3   \n",
       "\n",
       "             useful_column_for_later  \n",
       "0  everybody loves the things you do  \n",
       "1                    you're a genius  \n",
       "2                           handsome  "
      ]
     },
     "execution_count": 9,
     "metadata": {},
     "output_type": "execute_result"
    }
   ],
   "source": [
    "prophecies2.head()"
   ]
  },
  {
   "cell_type": "code",
   "execution_count": 10,
   "id": "b70f2f6b",
   "metadata": {},
   "outputs": [],
   "source": [
    "column_for_later = prophecies2.pop('useful_column_for_later')"
   ]
  },
  {
   "cell_type": "code",
   "execution_count": 11,
   "id": "3abf14ce",
   "metadata": {
    "scrolled": true
   },
   "outputs": [
    {
     "data": {
      "text/html": [
       "<div>\n",
       "<style scoped>\n",
       "    .dataframe tbody tr th:only-of-type {\n",
       "        vertical-align: middle;\n",
       "    }\n",
       "\n",
       "    .dataframe tbody tr th {\n",
       "        vertical-align: top;\n",
       "    }\n",
       "\n",
       "    .dataframe thead th {\n",
       "        text-align: right;\n",
       "    }\n",
       "</style>\n",
       "<table border=\"1\" class=\"dataframe\">\n",
       "  <thead>\n",
       "    <tr style=\"text-align: right;\">\n",
       "      <th></th>\n",
       "      <th>prophecies</th>\n",
       "      <th>name</th>\n",
       "      <th>date</th>\n",
       "      <th>id</th>\n",
       "    </tr>\n",
       "  </thead>\n",
       "  <tbody>\n",
       "    <tr>\n",
       "      <th>0</th>\n",
       "      <td>you're going to die</td>\n",
       "      <td>Tarja</td>\n",
       "      <td>1976-01-05</td>\n",
       "      <td>1</td>\n",
       "    </tr>\n",
       "    <tr>\n",
       "      <th>1</th>\n",
       "      <td>you're going to meet the love of your life, th...</td>\n",
       "      <td>James</td>\n",
       "      <td>1985-05-11</td>\n",
       "      <td>2</td>\n",
       "    </tr>\n",
       "    <tr>\n",
       "      <th>2</th>\n",
       "      <td>did I tell you? You're going to die</td>\n",
       "      <td>Bruce</td>\n",
       "      <td>2013-04-04</td>\n",
       "      <td>3</td>\n",
       "    </tr>\n",
       "  </tbody>\n",
       "</table>\n",
       "</div>"
      ],
      "text/plain": [
       "                                          prophecies   name        date  id\n",
       "0                                you're going to die  Tarja  1976-01-05   1\n",
       "1  you're going to meet the love of your life, th...  James  1985-05-11   2\n",
       "2                did I tell you? You're going to die  Bruce  2013-04-04   3"
      ]
     },
     "execution_count": 11,
     "metadata": {},
     "output_type": "execute_result"
    }
   ],
   "source": [
    "prophecies2.head()"
   ]
  },
  {
   "cell_type": "code",
   "execution_count": 12,
   "id": "10804d06",
   "metadata": {},
   "outputs": [
    {
     "name": "stdout",
     "output_type": "stream",
     "text": [
      "0    everybody loves the things you do\n",
      "1                      you're a genius\n",
      "2                             handsome\n",
      "Name: useful_column_for_later, dtype: object\n"
     ]
    }
   ],
   "source": [
    "print(column_for_later)"
   ]
  },
  {
   "cell_type": "code",
   "execution_count": 13,
   "id": "7c3c1f50",
   "metadata": {},
   "outputs": [
    {
     "data": {
      "text/plain": [
       "prophecies    object\n",
       "name          object\n",
       "date          object\n",
       "id             int64\n",
       "dtype: object"
      ]
     },
     "execution_count": 13,
     "metadata": {},
     "output_type": "execute_result"
    }
   ],
   "source": [
    "prophecies2.dtypes"
   ]
  },
  {
   "cell_type": "code",
   "execution_count": 14,
   "id": "4d3e1865",
   "metadata": {},
   "outputs": [
    {
     "data": {
      "text/plain": [
       "<AxesSubplot:xlabel='date'>"
      ]
     },
     "execution_count": 14,
     "metadata": {},
     "output_type": "execute_result"
    },
    {
     "data": {
      "image/png": "[encoded data removed]",
      "text/plain": [
       "<Figure size 432x288 with 1 Axes>"
      ]
     },
     "metadata": {
      "needs_background": "light"
     },
     "output_type": "display_data"
    }
   ],
   "source": [
    "prophecies2.plot('date', 'id')"
   ]
  },
  {
   "cell_type": "code",
   "execution_count": 15,
   "id": "05c09877",
   "metadata": {},
   "outputs": [
    {
     "data": {
      "text/plain": [
       "<AxesSubplot:xlabel='date'>"
      ]
     },
     "execution_count": 15,
     "metadata": {},
     "output_type": "execute_result"
    },
    {
     "data": {
      "image/png": "[encoded data removed]",
      "text/plain": [
       "<Figure size 432x288 with 1 Axes>"
      ]
     },
     "metadata": {
      "needs_background": "light"
     },
     "output_type": "display_data"
    }
   ],
   "source": [
    "prophecies2['date'] = pd.to_datetime(prophecies2['date'])\n",
    "prophecies2.plot('date', 'id')"
   ]
  },
  {
   "cell_type": "code",
   "execution_count": 16,
   "id": "fe02bc8a",
   "metadata": {},
   "outputs": [
    {
     "data": {
      "text/plain": [
       "prophecies            object\n",
       "name                  object\n",
       "date          datetime64[ns]\n",
       "id                     int64\n",
       "dtype: object"
      ]
     },
     "execution_count": 16,
     "metadata": {},
     "output_type": "execute_result"
    }
   ],
   "source": [
    "prophecies2.dtypes"
   ]
  },
  {
   "cell_type": "code",
   "execution_count": 17,
   "id": "0b379dbc",
   "metadata": {},
   "outputs": [
    {
     "data": {
      "text/html": [
       "<div>\n",
       "<style scoped>\n",
       "    .dataframe tbody tr th:only-of-type {\n",
       "        vertical-align: middle;\n",
       "    }\n",
       "\n",
       "    .dataframe tbody tr th {\n",
       "        vertical-align: top;\n",
       "    }\n",
       "\n",
       "    .dataframe thead th {\n",
       "        text-align: right;\n",
       "    }\n",
       "</style>\n",
       "<table border=\"1\" class=\"dataframe\">\n",
       "  <thead>\n",
       "    <tr style=\"text-align: right;\">\n",
       "      <th></th>\n",
       "      <th>prophecies</th>\n",
       "      <th>name</th>\n",
       "      <th>date</th>\n",
       "      <th>id</th>\n",
       "      <th>prophecies_types</th>\n",
       "      <th>useful_column_for_later</th>\n",
       "    </tr>\n",
       "  </thead>\n",
       "  <tbody>\n",
       "    <tr>\n",
       "      <th>0</th>\n",
       "      <td>you're going to die</td>\n",
       "      <td>Tarja</td>\n",
       "      <td>1976-01-05</td>\n",
       "      <td>1</td>\n",
       "      <td>[dying,  loving]</td>\n",
       "      <td>everybody loves the things you do</td>\n",
       "    </tr>\n",
       "    <tr>\n",
       "      <th>1</th>\n",
       "      <td>you're going to meet the love of your life, th...</td>\n",
       "      <td>James</td>\n",
       "      <td>1985-05-11</td>\n",
       "      <td>2</td>\n",
       "      <td>[loving]</td>\n",
       "      <td>you're a genius</td>\n",
       "    </tr>\n",
       "    <tr>\n",
       "      <th>2</th>\n",
       "      <td>did I tell you? You're going to die</td>\n",
       "      <td>Bruce</td>\n",
       "      <td>2013-04-04</td>\n",
       "      <td>3</td>\n",
       "      <td>[dying]</td>\n",
       "      <td>handsome</td>\n",
       "    </tr>\n",
       "  </tbody>\n",
       "</table>\n",
       "</div>"
      ],
      "text/plain": [
       "                                          prophecies   name       date  id  \\\n",
       "0                                you're going to die  Tarja 1976-01-05   1   \n",
       "1  you're going to meet the love of your life, th...  James 1985-05-11   2   \n",
       "2                did I tell you? You're going to die  Bruce 2013-04-04   3   \n",
       "\n",
       "   prophecies_types            useful_column_for_later  \n",
       "0  [dying,  loving]  everybody loves the things you do  \n",
       "1          [loving]                    you're a genius  \n",
       "2           [dying]                           handsome  "
      ]
     },
     "execution_count": 17,
     "metadata": {},
     "output_type": "execute_result"
    }
   ],
   "source": [
    "prophecies_types = pd.Series(data=['dying, loving', 'loving', 'dying'], name='prophecies_types')\n",
    "prophecies2 = prophecies2.join([prophecies_types, column_for_later])\n",
    "prophecies2['prophecies_types'] = prophecies2['prophecies_types'].str.split(',')\n",
    "prophecies2.head()"
   ]
  },
  {
   "cell_type": "code",
   "execution_count": 18,
   "id": "fd79c690",
   "metadata": {},
   "outputs": [
    {
     "data": {
      "text/html": [
       "<div>\n",
       "<style scoped>\n",
       "    .dataframe tbody tr th:only-of-type {\n",
       "        vertical-align: middle;\n",
       "    }\n",
       "\n",
       "    .dataframe tbody tr th {\n",
       "        vertical-align: top;\n",
       "    }\n",
       "\n",
       "    .dataframe thead th {\n",
       "        text-align: right;\n",
       "    }\n",
       "</style>\n",
       "<table border=\"1\" class=\"dataframe\">\n",
       "  <thead>\n",
       "    <tr style=\"text-align: right;\">\n",
       "      <th></th>\n",
       "      <th>prophecies</th>\n",
       "      <th>name</th>\n",
       "      <th>date</th>\n",
       "      <th>id</th>\n",
       "      <th>prophecies_types</th>\n",
       "      <th>useful_column_for_later</th>\n",
       "    </tr>\n",
       "  </thead>\n",
       "  <tbody>\n",
       "    <tr>\n",
       "      <th>0</th>\n",
       "      <td>you're going to die</td>\n",
       "      <td>Tarja</td>\n",
       "      <td>1976-01-05</td>\n",
       "      <td>1</td>\n",
       "      <td>dying</td>\n",
       "      <td>everybody loves the things you do</td>\n",
       "    </tr>\n",
       "    <tr>\n",
       "      <th>1</th>\n",
       "      <td>you're going to die</td>\n",
       "      <td>Tarja</td>\n",
       "      <td>1976-01-05</td>\n",
       "      <td>1</td>\n",
       "      <td>loving</td>\n",
       "      <td>everybody loves the things you do</td>\n",
       "    </tr>\n",
       "    <tr>\n",
       "      <th>2</th>\n",
       "      <td>you're going to meet the love of your life, th...</td>\n",
       "      <td>James</td>\n",
       "      <td>1985-05-11</td>\n",
       "      <td>2</td>\n",
       "      <td>loving</td>\n",
       "      <td>you're a genius</td>\n",
       "    </tr>\n",
       "    <tr>\n",
       "      <th>3</th>\n",
       "      <td>did I tell you? You're going to die</td>\n",
       "      <td>Bruce</td>\n",
       "      <td>2013-04-04</td>\n",
       "      <td>3</td>\n",
       "      <td>dying</td>\n",
       "      <td>handsome</td>\n",
       "    </tr>\n",
       "  </tbody>\n",
       "</table>\n",
       "</div>"
      ],
      "text/plain": [
       "                                          prophecies   name       date  id  \\\n",
       "0                                you're going to die  Tarja 1976-01-05   1   \n",
       "1                                you're going to die  Tarja 1976-01-05   1   \n",
       "2  you're going to meet the love of your life, th...  James 1985-05-11   2   \n",
       "3                did I tell you? You're going to die  Bruce 2013-04-04   3   \n",
       "\n",
       "  prophecies_types            useful_column_for_later  \n",
       "0            dying  everybody loves the things you do  \n",
       "1           loving  everybody loves the things you do  \n",
       "2           loving                    you're a genius  \n",
       "3            dying                           handsome  "
      ]
     },
     "execution_count": 18,
     "metadata": {},
     "output_type": "execute_result"
    }
   ],
   "source": [
    "prophecies2.explode('prophecies_types', ignore_index=True)"
   ]
  },
  {
   "cell_type": "code",
   "execution_count": 19,
   "id": "d11a84e5",
   "metadata": {},
   "outputs": [],
   "source": [
    "prophecies_types_dict = {'Tarja': 'dying, loving', 'James': 'loving', 'Bruce': 'dying'}\n",
    "\n",
    "prophecies2.drop(columns=['prophecies_types'], inplace=True)"
   ]
  },
  {
   "cell_type": "code",
   "execution_count": 20,
   "id": "5e3239b8",
   "metadata": {},
   "outputs": [
    {
     "data": {
      "text/html": [
       "<div>\n",
       "<style scoped>\n",
       "    .dataframe tbody tr th:only-of-type {\n",
       "        vertical-align: middle;\n",
       "    }\n",
       "\n",
       "    .dataframe tbody tr th {\n",
       "        vertical-align: top;\n",
       "    }\n",
       "\n",
       "    .dataframe thead th {\n",
       "        text-align: right;\n",
       "    }\n",
       "</style>\n",
       "<table border=\"1\" class=\"dataframe\">\n",
       "  <thead>\n",
       "    <tr style=\"text-align: right;\">\n",
       "      <th></th>\n",
       "      <th>prophecies</th>\n",
       "      <th>name</th>\n",
       "      <th>date</th>\n",
       "      <th>id</th>\n",
       "      <th>useful_column_for_later</th>\n",
       "      <th>prophecies_types</th>\n",
       "    </tr>\n",
       "  </thead>\n",
       "  <tbody>\n",
       "    <tr>\n",
       "      <th>0</th>\n",
       "      <td>you're going to die</td>\n",
       "      <td>Tarja</td>\n",
       "      <td>1976-01-05</td>\n",
       "      <td>1</td>\n",
       "      <td>everybody loves the things you do</td>\n",
       "      <td>dying, loving</td>\n",
       "    </tr>\n",
       "    <tr>\n",
       "      <th>1</th>\n",
       "      <td>you're going to meet the love of your life, th...</td>\n",
       "      <td>James</td>\n",
       "      <td>1985-05-11</td>\n",
       "      <td>2</td>\n",
       "      <td>you're a genius</td>\n",
       "      <td>loving</td>\n",
       "    </tr>\n",
       "    <tr>\n",
       "      <th>2</th>\n",
       "      <td>did I tell you? You're going to die</td>\n",
       "      <td>Bruce</td>\n",
       "      <td>2013-04-04</td>\n",
       "      <td>3</td>\n",
       "      <td>handsome</td>\n",
       "      <td>dying</td>\n",
       "    </tr>\n",
       "  </tbody>\n",
       "</table>\n",
       "</div>"
      ],
      "text/plain": [
       "                                          prophecies   name       date  id  \\\n",
       "0                                you're going to die  Tarja 1976-01-05   1   \n",
       "1  you're going to meet the love of your life, th...  James 1985-05-11   2   \n",
       "2                did I tell you? You're going to die  Bruce 2013-04-04   3   \n",
       "\n",
       "             useful_column_for_later prophecies_types  \n",
       "0  everybody loves the things you do    dying, loving  \n",
       "1                    you're a genius           loving  \n",
       "2                           handsome            dying  "
      ]
     },
     "execution_count": 20,
     "metadata": {},
     "output_type": "execute_result"
    }
   ],
   "source": [
    "prophecies2['prophecies_types'] = prophecies2['name'].map(prophecies_types_dict)\n",
    "prophecies2.head()"
   ]
  },
  {
   "cell_type": "code",
   "execution_count": 21,
   "id": "d8d63d88",
   "metadata": {},
   "outputs": [
    {
     "data": {
      "text/html": [
       "<div>\n",
       "<style scoped>\n",
       "    .dataframe tbody tr th:only-of-type {\n",
       "        vertical-align: middle;\n",
       "    }\n",
       "\n",
       "    .dataframe tbody tr th {\n",
       "        vertical-align: top;\n",
       "    }\n",
       "\n",
       "    .dataframe thead th {\n",
       "        text-align: right;\n",
       "    }\n",
       "</style>\n",
       "<table border=\"1\" class=\"dataframe\">\n",
       "  <thead>\n",
       "    <tr style=\"text-align: right;\">\n",
       "      <th></th>\n",
       "      <th>name</th>\n",
       "      <th>specs</th>\n",
       "    </tr>\n",
       "  </thead>\n",
       "  <tbody>\n",
       "    <tr>\n",
       "      <th>0</th>\n",
       "      <td>Tarja</td>\n",
       "      <td>something good</td>\n",
       "    </tr>\n",
       "    <tr>\n",
       "      <th>1</th>\n",
       "      <td>Bruce</td>\n",
       "      <td>something bad</td>\n",
       "    </tr>\n",
       "    <tr>\n",
       "      <th>2</th>\n",
       "      <td>Chuck</td>\n",
       "      <td>something</td>\n",
       "    </tr>\n",
       "  </tbody>\n",
       "</table>\n",
       "</div>"
      ],
      "text/plain": [
       "    name           specs\n",
       "0  Tarja  something good\n",
       "1  Bruce   something bad\n",
       "2  Chuck       something"
      ]
     },
     "execution_count": 21,
     "metadata": {},
     "output_type": "execute_result"
    }
   ],
   "source": [
    "prophecies_specs_for_merge = pd.DataFrame({'name': ['Tarja', 'Bruce', 'Chuck'], \n",
    "                                           'specs': ['something good', 'something bad', 'something']})\n",
    "\n",
    "prophecies_specs_for_merge.head()"
   ]
  },
  {
   "cell_type": "code",
   "execution_count": 22,
   "id": "2eaec3e0",
   "metadata": {},
   "outputs": [
    {
     "data": {
      "text/html": [
       "<div>\n",
       "<style scoped>\n",
       "    .dataframe tbody tr th:only-of-type {\n",
       "        vertical-align: middle;\n",
       "    }\n",
       "\n",
       "    .dataframe tbody tr th {\n",
       "        vertical-align: top;\n",
       "    }\n",
       "\n",
       "    .dataframe thead th {\n",
       "        text-align: right;\n",
       "    }\n",
       "</style>\n",
       "<table border=\"1\" class=\"dataframe\">\n",
       "  <thead>\n",
       "    <tr style=\"text-align: right;\">\n",
       "      <th></th>\n",
       "      <th>prophecies</th>\n",
       "      <th>name</th>\n",
       "      <th>date</th>\n",
       "      <th>id</th>\n",
       "      <th>useful_column_for_later</th>\n",
       "      <th>prophecies_types</th>\n",
       "      <th>specs</th>\n",
       "    </tr>\n",
       "  </thead>\n",
       "  <tbody>\n",
       "    <tr>\n",
       "      <th>0</th>\n",
       "      <td>you're going to die</td>\n",
       "      <td>Tarja</td>\n",
       "      <td>1976-01-05</td>\n",
       "      <td>1</td>\n",
       "      <td>everybody loves the things you do</td>\n",
       "      <td>dying, loving</td>\n",
       "      <td>something good</td>\n",
       "    </tr>\n",
       "    <tr>\n",
       "      <th>1</th>\n",
       "      <td>did I tell you? You're going to die</td>\n",
       "      <td>Bruce</td>\n",
       "      <td>2013-04-04</td>\n",
       "      <td>3</td>\n",
       "      <td>handsome</td>\n",
       "      <td>dying</td>\n",
       "      <td>something bad</td>\n",
       "    </tr>\n",
       "  </tbody>\n",
       "</table>\n",
       "</div>"
      ],
      "text/plain": [
       "                            prophecies   name       date  id  \\\n",
       "0                  you're going to die  Tarja 1976-01-05   1   \n",
       "1  did I tell you? You're going to die  Bruce 2013-04-04   3   \n",
       "\n",
       "             useful_column_for_later prophecies_types           specs  \n",
       "0  everybody loves the things you do    dying, loving  something good  \n",
       "1                           handsome            dying   something bad  "
      ]
     },
     "execution_count": 22,
     "metadata": {},
     "output_type": "execute_result"
    }
   ],
   "source": [
    "merged_prophecies = prophecies2.merge(prophecies_specs_for_merge, on='name', how='inner')\n",
    "merged_prophecies.head()"
   ]
  },
  {
   "cell_type": "code",
   "execution_count": null,
   "id": "9b3fd311",
   "metadata": {},
   "outputs": [],
   "source": []
  }
 ],
 "metadata": {
  "kernelspec": {
   "display_name": "Python 3",
   "language": "python",
   "name": "python3"
  },
  "language_info": {
   "codemirror_mode": {
    "name": "ipython",
    "version": 3
   },
   "file_extension": ".py",
   "mimetype": "text/x-python",
   "name": "python",
   "nbconvert_exporter": "python",
   "pygments_lexer": "ipython3",
   "version": "3.8.5"
  }
 },
 "nbformat": 4,
 "nbformat_minor": 5
}
